{
 "cells": [
  {
   "cell_type": "markdown",
   "metadata": {},
   "source": [
    "# Classifier Comparison (Julia classifiers)"
   ]
  },
  {
   "cell_type": "markdown",
   "metadata": {},
   "source": [
    "Adapted from http://scikit-learn.org/stable/auto_examples/classification/plot_classifier_comparison.html"
   ]
  },
  {
   "cell_type": "markdown",
   "metadata": {},
   "source": [
    "A comparison of a several classifiers in scikit-learn on synthetic datasets. The point of this example is to illustrate the nature of decision boundaries of different classifiers. This should be taken with a grain of salt, as the intuition conveyed by these examples does not necessarily carry over to real datasets.\n",
    "\n",
    "Particularly in high-dimensional spaces, data can more easily be separated linearly and the simplicity of classifiers such as naive Bayes and linear SVMs might lead to better generalization than is achieved by other classifiers.\n",
    "\n",
    "The plots show training points in solid colors and testing points semi-transparent. The lower right shows the classification accuracy on the test set."
   ]
  },
  {
   "cell_type": "code",
   "execution_count": 1,
   "metadata": {
    "collapsed": false
   },
   "outputs": [],
   "source": [
    "# Python Code source: Gaël Varoquaux\n",
    "#                     Andreas Müller\n",
    "# Julia adaptation: Cédric St-Jean\n",
    "# Modified for documentation by Jaques Grobler\n",
    "# License: BSD 3 clause\n",
    "\n",
    "using ScikitLearn\n",
    "using PyCall\n",
    "using PyPlot\n",
    "using ScikitLearn.CrossValidation: train_test_split\n",
    "import DecisionTree\n",
    "using ScikitLearn.Models: DecisionTreeClassifier, RandomForestClassifier\n",
    "@pyimport matplotlib.colors as mplc\n",
    "@sk_import preprocessing: StandardScaler\n",
    "@sk_import datasets: (make_moons, make_circles, make_classification)\n",
    "@sk_import neighbors: KNeighborsClassifier\n",
    "@sk_import svm: SVC\n",
    "#@sk_import tree: DecisionTreeClassifier\n",
    "@sk_import ensemble: (AdaBoostClassifier) # RandomForestClassifier\n",
    "@sk_import naive_bayes: GaussianNB\n",
    "@sk_import discriminant_analysis: (LinearDiscriminantAnalysis, QuadraticDiscriminantAnalysis)\n",
    "using ScikitLearn.Utils: meshgrid"
   ]
  },
  {
   "cell_type": "code",
   "execution_count": 2,
   "metadata": {
    "collapsed": true
   },
   "outputs": [],
   "source": [
    "importall ScikitLearnBase, DecisionTree"
   ]
  },
  {
   "cell_type": "code",
   "execution_count": 3,
   "metadata": {
    "collapsed": true
   },
   "outputs": [],
   "source": [
    "import ScikitLearn.Models: compute_probabilities"
   ]
  },
  {
   "cell_type": "code",
   "execution_count": 4,
   "metadata": {
    "collapsed": false
   },
   "outputs": [
    {
     "ename": "LoadError",
     "evalue": "LoadError: syntax: incomplete: premature end of input\nwhile loading In[4], in expression starting on line 27",
     "output_type": "error",
     "traceback": [
      "LoadError: syntax: incomplete: premature end of input\nwhile loading In[4], in expression starting on line 27",
      ""
     ]
    }
   ],
   "source": [
    "type AdaBoostStumpClassifier <: BaseClassifier\n",
    "    niterations::Int\n",
    "    ensemble::Ensemble\n",
    "    coeffs::Vector{Float64}\n",
    "    classes::Vector\n",
    "    AdaBoostStumpClassifier(; niterations=10) = new(niterations)\n",
    "end\n",
    "declare_hyperparameters(AdaBoostStumpClassifier, [:niterations])\n",
    "get_classes(ada::AdaBoostStumpClassifier) = ada.classes\n",
    "\n",
    "function fit!(ada::AdaBoostStumpClassifier, X, y)\n",
    "    ada.ensemble, ada.coeffs = build_adaboost_stumps(y, X, ada.niterations)\n",
    "    ada.classes = sort(unique(y))\n",
    "    ada\n",
    "end\n",
    "\n",
    "predict(ada::AdaBoostStumpClassifier, X) = apply_adaboost_stumps(ada.ensemble, ada.coeffs, X)\n",
    "\n",
    "function apply_adaboost_stumps_prob(stumps::Ensemble, coeffs::Vector{Float64}, features::Vector, classes::Vector)\n",
    "    votes = [apply_tree(stump, features) for stump in stumps.trees]\n",
    "    compute_probabilities(classes, votes, coeffs)\n",
    "end\n",
    "\n",
    "apply_adaboost_stumps_prob(stumps::Ensemble, coeffs::Matrix{Float64}, features::Vector, classes::Vector) =\n",
    "stack_function_results(apply_adaboost_stumps_prob, stumps, )\n",
    "\n",
    "function predict_proba(ada)\n",
    "    "
   ]
  },
  {
   "cell_type": "code",
   "execution_count": null,
   "metadata": {
    "collapsed": true
   },
   "outputs": [],
   "source": []
  },
  {
   "cell_type": "code",
   "execution_count": 5,
   "metadata": {
    "collapsed": false
   },
   "outputs": [],
   "source": [
    "h = .02  # step size in the mesh\n",
    "\n",
    "names = [\"Nearest Neighbors\", \"Linear SVM\", \"RBF SVM\", \"Decision Tree (Julia)\",\n",
    "        \"Random Forest (Julia)\", \"AdaBoost\", \"Naive Bayes\", \"Linear Discriminant Analysis\",\n",
    "         \"Quadratic Discriminant Analysis\"]\n",
    "classifiers = [\n",
    "#    KNeighborsClassifier(3),\n",
    "#    SVC(kernel=\"linear\", C=0.025),\n",
    "#    SVC(gamma=2, C=1),\n",
    "    DecisionTreeClassifier(pruning_purity_threshold=0.8),\n",
    "    RandomForestClassifier(ntrees=20),\n",
    "#    AdaBoostClassifier(),\n",
    "#    GaussianNB(),\n",
    "#    LinearDiscriminantAnalysis(),\n",
    "#    QuadraticDiscriminantAnalysis()\n",
    "]\n",
    "\n",
    "X, y = make_classification(n_features=2, n_redundant=0, n_informative=2,\n",
    "                           random_state=1, n_clusters_per_class=1)\n",
    "srand(42)\n",
    "X += 2 * rand(size(X)...)\n",
    "linearly_separable = (X, y)\n",
    "\n",
    "datasets = [make_moons(noise=0.3, random_state=0),\n",
    "            make_circles(noise=0.2, factor=0.5, random_state=1),\n",
    "            linearly_separable\n",
    "            ];"
   ]
  },
  {
   "cell_type": "code",
   "execution_count": null,
   "metadata": {
    "collapsed": false
   },
   "outputs": [],
   "source": [
    "fig = figure(figsize=(27, 9))\n",
    "i = 1\n",
    "# iterate over datasets\n",
    "for ds in datasets\n",
    "    # preprocess dataset, split into training and test part\n",
    "    X, y = ds\n",
    "    X = fit_transform!(StandardScaler(), X)\n",
    "    X_train, X_test, y_train, y_test = train_test_split(X, y, test_size=.4)\n",
    "\n",
    "    x_min, x_max = minimum(X[:, 1]) - .5, maximum(X[:, 1]) + .5\n",
    "    y_min, y_max = minimum(X[:, 2]) - .5, maximum(X[:, 2]) + .5\n",
    "    xx, yy = meshgrid(x_min:h:x_max, y_min:h:y_max)\n",
    "\n",
    "    # just plot the dataset first\n",
    "    cm = PyPlot.cm[:RdBu]\n",
    "    cm_bright = mplc.ListedColormap([\"#FF0000\", \"#0000FF\"])\n",
    "    ax = subplot(length(datasets), length(classifiers) + 1, i)\n",
    "    # Plot the training points\n",
    "    ax[:scatter](X_train[:, 1], X_train[:, 2], c=y_train, cmap=cm_bright)\n",
    "    # and testing points\n",
    "    ax[:scatter](X_test[:, 1], X_test[:, 2], c=y_test, cmap=cm_bright, alpha=0.6)\n",
    "\n",
    "    ax[:set_xlim](minimum(xx), maximum(xx))\n",
    "    ax[:set_ylim](minimum(yy), maximum(yy))\n",
    "    ax[:set_xticks](())\n",
    "    ax[:set_yticks](())\n",
    "    i += 1\n",
    "\n",
    "    # iterate over classifiers\n",
    "    for (name, clf) in zip(names, classifiers)\n",
    "        ax = subplot(length(datasets), length(classifiers) + 1, i)\n",
    "        fit!(clf, X_train, y_train)\n",
    "        scor = score(clf, X_test, y_test)\n",
    "\n",
    "        # Plot the decision boundary. For that, we will assign a color to each\n",
    "        # point in the mesh [x_min, m_max]x[y_min, y_max].\n",
    "        try \n",
    "            # Not implemented for some\n",
    "            Z = decision_function(clf, hcat(xx[:], yy[:]))\n",
    "        catch\n",
    "            Z = predict_proba(clf, hcat(xx[:], yy[:]))[:, 2]\n",
    "        end\n",
    "\n",
    "        # Put the result into a color plot\n",
    "        Z = reshape(Z, size(xx)...)\n",
    "        ax[:contourf](xx, yy, Z, cmap=cm, alpha=.8)\n",
    "\n",
    "        # Plot also the training points\n",
    "        ax[:scatter](X_train[:, 1], X_train[:, 2], c=y_train, cmap=cm_bright)\n",
    "        # and testing points\n",
    "        ax[:scatter](X_test[:, 1], X_test[:, 2], c=y_test, cmap=cm_bright,\n",
    "                   alpha=0.6)\n",
    "\n",
    "        ax[:set_xlim](minimum(xx), maximum(xx))\n",
    "        ax[:set_ylim](minimum(yy), maximum(yy))\n",
    "        ax[:set_xticks](())\n",
    "        ax[:set_yticks](())\n",
    "        ax[:set_title](name)\n",
    "\n",
    "        ax[:text](maximum(xx) - .3, minimum(yy) + .3, @sprintf(\"%.2f\", scor),\n",
    "                size=15, horizontalalignment=\"right\")\n",
    "        i += 1\n",
    "    end\n",
    "end\n",
    "fig[:subplots_adjust](left=.02, right=.98)"
   ]
  }
 ],
 "metadata": {
  "kernelspec": {
   "display_name": "Julia 0.4.5",
   "language": "julia",
   "name": "julia-0.4"
  },
  "language_info": {
   "file_extension": ".jl",
   "mimetype": "application/julia",
   "name": "julia",
   "version": "0.4.5"
  }
 },
 "nbformat": 4,
 "nbformat_minor": 0
}
