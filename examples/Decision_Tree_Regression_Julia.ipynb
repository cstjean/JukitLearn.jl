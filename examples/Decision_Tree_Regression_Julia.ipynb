{
 "cells": [
  {
   "cell_type": "markdown",
   "metadata": {},
   "source": [
    "# Decision Tree Regression (using DecisionTrees.jl)"
   ]
  },
  {
   "cell_type": "markdown",
   "metadata": {},
   "source": [
    "Adapted from http://scikit-learn.org/stable/auto_examples/tree/plot_tree_regression.html\n",
    "\n",
    "A 1D regression with decision tree.\n",
    "\n",
    "The decision trees is used to fit a sine curve with addition noisy observation. As a result, it learns local linear regressions approximating the sine curve.\n",
    "\n",
    "We can see that if the maximum depth of the tree (controlled by the max_depth parameter) is set too high, the decision trees learn too fine details of the training data and learn from the noise, i.e. they overfit."
   ]
  },
  {
   "cell_type": "code",
   "execution_count": 1,
   "metadata": {
    "collapsed": false
   },
   "outputs": [
    {
     "ename": "LoadError",
     "evalue": "LoadError: UndefVarError: RandomForestRegressor not defined\nwhile loading In[1], in expression starting on line 16",
     "output_type": "error",
     "traceback": [
      "LoadError: UndefVarError: RandomForestRegressor not defined\nwhile loading In[1], in expression starting on line 16",
      ""
     ]
    }
   ],
   "source": [
    "import DecisionTree\n",
    "using ScikitLearn\n",
    "using ScikitLearn.Models.DecisionTreeRegressor\n",
    "using PyPlot\n",
    "\n",
    "# Create a random dataset\n",
    "srand(42)\n",
    "X = sort(5 * rand(80))\n",
    "XX = reshape(X, 80, 1)\n",
    "y = sin(X)\n",
    "y[1:5:end] += 3 * (0.5 - rand(16))\n",
    "\n",
    "# Fit regression model\n",
    "regr_1 = DecisionTreeRegressor()\n",
    "regr_2 = DecisionTreeRegressor(pruning_purity_threshold=0.05)\n",
    "regr_3 = RandomForestRegressor(ntrees=50)\n",
    "fit!(regr_1, XX, y)\n",
    "fit!(regr_2, XX, y)\n",
    "fit!(regr_3, XX, y)\n",
    "\n",
    "# Predict\n",
    "X_test = 0:0.01:5.0\n",
    "y_1 = predict(regr_1, hcat(X_test))\n",
    "y_2 = predict(regr_2, hcat(X_test))\n",
    "y_3 = predict(regr_3, hcat(X_test))\n",
    "\n",
    "# Plot the results\n",
    "scatter(X, y, c=\"k\", label=\"data\")\n",
    "plot(X_test, y_1, c=\"g\", label=\"no pruning\", linewidth=2)\n",
    "plot(X_test, y_2, c=\"r\", label=\"pruning_purity_threshold=0.05\", linewidth=2)\n",
    "plot(X_test, y_3, c=\"b\", label=\"Random Forest\", linewidth=2)\n",
    "xlabel(\"data\")\n",
    "ylabel(\"target\")\n",
    "title(\"Decision Tree Regression\")\n",
    "legend(prop=Dict(\"size\"=>10));"
   ]
  }
 ],
 "metadata": {
  "kernelspec": {
   "display_name": "Julia 0.4.5",
   "language": "julia",
   "name": "julia-0.4"
  },
  "language_info": {
   "file_extension": ".jl",
   "mimetype": "application/julia",
   "name": "julia",
   "version": "0.4.5"
  }
 },
 "nbformat": 4,
 "nbformat_minor": 0
}
